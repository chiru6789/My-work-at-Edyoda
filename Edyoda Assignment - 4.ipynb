{
 "cells": [
  {
   "cell_type": "markdown",
   "id": "126a77d4",
   "metadata": {},
   "source": [
    "# Assignment-4: Map | Filter | Lambda\n"
   ]
  },
  {
   "cell_type": "markdown",
   "id": "00d8c86f",
   "metadata": {},
   "source": [
    "# 1)Write a Python program to create a lambda function that adds 25 to a given number passed in as an argument.\n",
    "\n"
   ]
  },
  {
   "cell_type": "code",
   "execution_count": 1,
   "id": "32b7e455",
   "metadata": {},
   "outputs": [
    {
     "name": "stdout",
     "output_type": "stream",
     "text": [
      "Enter a number:10\n",
      "The addition of 10 to 25 is 35\n"
     ]
    }
   ],
   "source": [
    "x=int(input(\"Enter a number:\"))\n",
    "add=lambda x:x+25\n",
    "print(f\"The addition of {x} to 25 is {add(x)}\")"
   ]
  },
  {
   "cell_type": "markdown",
   "id": "e631a7fa",
   "metadata": {},
   "source": [
    "# 2)Write a Python program to triple all numbers of a given list of integers. Use Python map.\n"
   ]
  },
  {
   "cell_type": "code",
   "execution_count": 2,
   "id": "fc917564",
   "metadata": {},
   "outputs": [
    {
     "name": "stdout",
     "output_type": "stream",
     "text": [
      "The tripling of numbers in a given list [1, 2, 3, 4, 5, 6, 7] are\n",
      "[3, 6, 9, 12, 15, 18, 21]\n"
     ]
    }
   ],
   "source": [
    "lst=[1,2,3,4,5,6,7]\n",
    "triple=lambda x:x*3\n",
    "print(f\"The tripling of numbers in a given list {lst} are\\n{list(map(triple,lst))}\")"
   ]
  },
  {
   "cell_type": "markdown",
   "id": "243e0952",
   "metadata": {},
   "source": [
    "# 3)Write a Python program to square the elements of a list using map() function."
   ]
  },
  {
   "cell_type": "code",
   "execution_count": 3,
   "id": "d85daeb7",
   "metadata": {},
   "outputs": [
    {
     "name": "stdout",
     "output_type": "stream",
     "text": [
      "The square of numbers in a given list [1, 2, 3, 4, 5, 6, 7] are\n",
      "[1, 4, 9, 16, 25, 36, 49]\n"
     ]
    }
   ],
   "source": [
    "lst=[1,2,3,4,5,6,7]\n",
    "square=lambda x:x**2\n",
    "print(f\"The square of numbers in a given list {lst} are\\n{list(map(square,lst))}\")\n"
   ]
  },
  {
   "cell_type": "code",
   "execution_count": null,
   "id": "4d563fef",
   "metadata": {},
   "outputs": [],
   "source": []
  }
 ],
 "metadata": {
  "kernelspec": {
   "display_name": "Python 3 (ipykernel)",
   "language": "python",
   "name": "python3"
  },
  "language_info": {
   "codemirror_mode": {
    "name": "ipython",
    "version": 3
   },
   "file_extension": ".py",
   "mimetype": "text/x-python",
   "name": "python",
   "nbconvert_exporter": "python",
   "pygments_lexer": "ipython3",
   "version": "3.9.12"
  }
 },
 "nbformat": 4,
 "nbformat_minor": 5
}
