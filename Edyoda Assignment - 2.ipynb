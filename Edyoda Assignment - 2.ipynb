{
 "cells": [
  {
   "cell_type": "markdown",
   "id": "091d61b9",
   "metadata": {},
   "source": [
    "# Assignment 2(List | Tuples | Dictionaries)"
   ]
  },
  {
   "cell_type": "markdown",
   "id": "8af64882",
   "metadata": {},
   "source": [
    "# 1) Write a Python program to get a list, sorted in increasing order by the last element in each tuple from a given list of non-empty tuples"
   ]
  },
  {
   "cell_type": "code",
   "execution_count": 4,
   "id": "ee2e5db4",
   "metadata": {},
   "outputs": [
    {
     "name": "stdout",
     "output_type": "stream",
     "text": [
      "[(2, 1), (1, 2), (2, 3), (4, 4), (2, 5)]\n"
     ]
    }
   ],
   "source": [
    "def last_element(tupple): # This function gives us the last element of the tuple\n",
    "    return tupple[-1]     # To get the last element,we use reverse indexing her i.e tupple[-1]\n",
    "def sort_tuples(tupples): # This function sort_tuples returns the sorted list with the last_element function as its key\n",
    "    return sorted(tupples, key=last_element) \n",
    "\n",
    "tuples_list = [(2, 5), (1, 2), (4, 4), (2, 3), (2, 1)] # Input tuples as a list\n",
    "sorted_list = sort_tuples(tuples_list)                 # Here,we are calling sort_tuples function\n",
    "print(sorted_list)                         # This prints the sorted list in increasing order by last element in each tuple"
   ]
  },
  {
   "cell_type": "markdown",
   "id": "fc3783ca",
   "metadata": {},
   "source": [
    "# 2)Write a Python program to print a dictionary whose keys should be the alphabet from a-z and the value should be corresponding ASCII values\n",
    "\n"
   ]
  },
  {
   "cell_type": "code",
   "execution_count": 5,
   "id": "5fac66f4",
   "metadata": {},
   "outputs": [
    {
     "name": "stdout",
     "output_type": "stream",
     "text": [
      "{'a': 97, 'b': 98, 'c': 99, 'd': 100, 'e': 101, 'f': 102, 'g': 103, 'h': 104, 'i': 105, 'j': 106, 'k': 107, 'l': 108, 'm': 109, 'n': 110, 'o': 111, 'p': 112, 'q': 113, 'r': 114, 's': 115, 't': 116, 'u': 117, 'v': 118, 'w': 119, 'x': 120, 'y': 121, 'z': 122}\n"
     ]
    }
   ],
   "source": [
    "def create_alphabet_dictionary():  # This function is to create_aplhabet_dictionary \n",
    "    alphabet_dict = {}             # Initialsing an empty dictionary\n",
    "    for i in range(97, 123):  # We iterate over the range of ASCII values for lowercase alphabets 'a' to 'z' i.e 97 to 123\n",
    "        alphabet_dict[chr(i)] = i # we assign the character as the key and the ASCII value as the value to the alphabet_dict{}\n",
    "    return alphabet_dict           # returns the complete alphabet dictionary.\n",
    "\n",
    "alphabet_dictionary = create_alphabet_dictionary()  # Here,we are calling create_alphabet dictionary function\n",
    "print(alphabet_dictionary)                          # This line prints the alphabets with it's ASCII values as output"
   ]
  },
  {
   "cell_type": "code",
   "execution_count": null,
   "id": "5f3008ec",
   "metadata": {},
   "outputs": [],
   "source": []
  }
 ],
 "metadata": {
  "kernelspec": {
   "display_name": "Python 3 (ipykernel)",
   "language": "python",
   "name": "python3"
  },
  "language_info": {
   "codemirror_mode": {
    "name": "ipython",
    "version": 3
   },
   "file_extension": ".py",
   "mimetype": "text/x-python",
   "name": "python",
   "nbconvert_exporter": "python",
   "pygments_lexer": "ipython3",
   "version": "3.9.12"
  }
 },
 "nbformat": 4,
 "nbformat_minor": 5
}
