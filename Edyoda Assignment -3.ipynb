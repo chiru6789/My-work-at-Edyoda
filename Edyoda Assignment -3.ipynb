{
 "cells": [
  {
   "cell_type": "markdown",
   "id": "55ad8549",
   "metadata": {},
   "source": [
    "# Assignment 3 (Functions | Modules)"
   ]
  },
  {
   "cell_type": "markdown",
   "id": "051b1372",
   "metadata": {},
   "source": [
    "# 1) Write a Python function to sum all the numbers in a list.\n"
   ]
  },
  {
   "cell_type": "code",
   "execution_count": 3,
   "id": "c5a87801",
   "metadata": {},
   "outputs": [
    {
     "name": "stdout",
     "output_type": "stream",
     "text": [
      "Enter length of the list:7\n",
      "Enter element:12\n",
      "Enter element:16\n",
      "Enter element:19\n",
      "Enter element:3\n",
      "Enter element:49\n",
      "Enter element:51\n",
      "Enter element:62\n",
      "The input list is [12, 16, 19, 3, 49, 51, 62]\n",
      "The sum of list is 212\n"
     ]
    }
   ],
   "source": [
    "def sum_list():   # This is a function to add all the elements in a list\n",
    "    total=0       # Initiating variable total to Zero\n",
    "    for i in input_list:   # Iterating each element through the input_list\n",
    "        total += i         # total=total + i \n",
    "    return total           # Returns total i.e sum of all elements in the list\n",
    "\n",
    "input_list=[]          # Initiating input_list as empty\n",
    "length=int(input(\"Enter length of the list:\")) # Length of the list is declared here\n",
    "for i in range(0,length):  # Loop iterates from zero to length-1\n",
    "    element = int(input(\"Enter element:\")) # Taking input from user to input_list \n",
    "    input_list.append(element)             # Appending elements to input_list\n",
    "print(\"The input list is\",input_list)   # Printing the input list given by user\n",
    "total_list=sum_list()                   # calling sum_list function\n",
    "print(\"The sum of list is\",total_list)  # printing the sum of elements"
   ]
  },
  {
   "cell_type": "markdown",
   "id": "3727ea0f",
   "metadata": {},
   "source": [
    "# 2) Write a Python program to reverse a string."
   ]
  },
  {
   "cell_type": "code",
   "execution_count": 4,
   "id": "d27e1b50",
   "metadata": {},
   "outputs": [
    {
     "name": "stdout",
     "output_type": "stream",
     "text": [
      "Enter a string:Edyoda\n",
      "The revesed string is adoydE \n"
     ]
    }
   ],
   "source": [
    "def reverse_string():   # This is the function to reverse the given string\n",
    "    reversed_word=\" \"   # Here,reversed_string is initiated with space\n",
    "    for i in word:      # for loop iterates through the given word \n",
    "        reversed_word=i+reversed_word   #Here,last letter will get appended to reversed_word\n",
    "    return reversed_word  # returns the reversed_word\n",
    "\n",
    "word=input(\"Enter a string:\") # Taking input from user and storing in the variable word\n",
    "reversed_string=reverse_string() # Calling function reverse_string \n",
    "print(\"The revesed string is\",reversed_string)  # It will print the reversed_string"
   ]
  },
  {
   "cell_type": "markdown",
   "id": "6ce75a64",
   "metadata": {},
   "source": [
    "# 3)Write a Python function that accepts a string and calculate the number of upper case letters and lower case letters."
   ]
  },
  {
   "cell_type": "code",
   "execution_count": 5,
   "id": "e18fe431",
   "metadata": {},
   "outputs": [
    {
     "name": "stdout",
     "output_type": "stream",
     "text": [
      "Enter your string: The quick Brow Fox\n",
      "Original String:  The quick Brow Fox\n",
      "No. of Upper case characters:  3\n",
      "No. of Lower case Characters:  12\n"
     ]
    }
   ],
   "source": [
    "def count_upper_lower(s): # Initialize a dictionary to store the counts of uppercase and lowercase characters\n",
    "    d = {\"UPPER_CASE\": 0, \"LOWER_CASE\": 0}\n",
    "    for c in s:          # Iterate over each character in the string\n",
    "        if c.isupper():\n",
    "            # If the character is uppercase, increment the count in the dictionary\n",
    "            d[\"UPPER_CASE\"] += 1\n",
    "        elif c.islower():\n",
    "            # If the character is lowercase, increment the count in the dictionary\n",
    "            d[\"LOWER_CASE\"] += 1\n",
    "    return d  # Returns the dictionary containing the counts\n",
    "\n",
    "\n",
    "input_string = input(\"Enter your string: \")  # Taking input string from user\n",
    "result = count_upper_lower(input_string)  # Calling the function count_upper_lower\n",
    "print(\"Original String: \", input_string)  # prints the input string\n",
    "print(\"No. of Upper case characters: \", result[\"UPPER_CASE\"]) # prints the count of uppercase characters\n",
    "print(\"No. of Lower case Characters: \", result[\"LOWER_CASE\"]) # prints the count of lowercase characters"
   ]
  },
  {
   "cell_type": "code",
   "execution_count": null,
   "id": "b74be6ba",
   "metadata": {},
   "outputs": [],
   "source": []
  }
 ],
 "metadata": {
  "kernelspec": {
   "display_name": "Python 3 (ipykernel)",
   "language": "python",
   "name": "python3"
  },
  "language_info": {
   "codemirror_mode": {
    "name": "ipython",
    "version": 3
   },
   "file_extension": ".py",
   "mimetype": "text/x-python",
   "name": "python",
   "nbconvert_exporter": "python",
   "pygments_lexer": "ipython3",
   "version": "3.9.12"
  }
 },
 "nbformat": 4,
 "nbformat_minor": 5
}
