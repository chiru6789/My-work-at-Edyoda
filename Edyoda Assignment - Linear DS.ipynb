{
 "cells": [
  {
   "cell_type": "markdown",
   "id": "3f7f5ae8",
   "metadata": {},
   "source": [
    "# Assignment-1: Linear Data Structures\n"
   ]
  },
  {
   "cell_type": "markdown",
   "id": "535098c0",
   "metadata": {},
   "source": [
    "# Q1. Write a program to find all pairs of an integer array whose sum is equal to a given number?\n"
   ]
  },
  {
   "cell_type": "code",
   "execution_count": 1,
   "id": "eddaeaec",
   "metadata": {},
   "outputs": [
    {
     "name": "stdout",
     "output_type": "stream",
     "text": [
      "Enter the target sum: 15\n",
      "Pairs with sum equal to 15 :\n",
      "[[5, 10], [6, 9], [7, 8]]\n"
     ]
    }
   ],
   "source": [
    "def find_pairs(array, target):\n",
    "    pairs = []\n",
    "    for i in range(len(array)):\n",
    "        for j in range(i + 1, len(array)):\n",
    "            if array[i] + array[j] == target:\n",
    "                pairs.append([array[i], array[j]])\n",
    "    return pairs\n",
    "\n",
    "arr = [1,2,3,4,5,6,7,8,9,10]\n",
    "sum_target = int(input(\"Enter the target sum: \"))\n",
    "\n",
    "result = find_pairs(arr, sum_target)\n",
    "print(\"Pairs with sum equal to\", sum_target, \":\")\n",
    "print(result)"
   ]
  },
  {
   "cell_type": "markdown",
   "id": "4d71044b",
   "metadata": {},
   "source": [
    "# Q2. Write a program to reverse an array in place? In place means you cannot create a new array. You have to update the original array."
   ]
  },
  {
   "cell_type": "code",
   "execution_count": 2,
   "id": "82a530ab",
   "metadata": {},
   "outputs": [
    {
     "name": "stdout",
     "output_type": "stream",
     "text": [
      "Enter elements of the array (space-separated): 10 20 30 40 50\n",
      "Reversed array: [50, 40, 30, 20, 10]\n"
     ]
    }
   ],
   "source": [
    "def reverse_array(array):\n",
    "    start = 0\n",
    "    end = len(array) - 1\n",
    "    \n",
    "    while start < end:\n",
    "        array[start], array[end] = array[end], array[start]\n",
    "        start += 1\n",
    "        end -= 1\n",
    "\n",
    "# Take array input from the user\n",
    "input_string = input(\"Enter elements of the array (space-separated): \")\n",
    "arr = input_string.split()\n",
    "\n",
    "# Convert the input elements from string to integers\n",
    "arr = [int(num) for num in arr]\n",
    "\n",
    "# Reverse the array\n",
    "reverse_array(arr)\n",
    "\n",
    "# Print the reversed array\n",
    "print(\"Reversed array:\", arr)\n"
   ]
  },
  {
   "cell_type": "markdown",
   "id": "6219287c",
   "metadata": {},
   "source": [
    "# Q3. Write a program to check if two strings are a rotation of each other?"
   ]
  },
  {
   "cell_type": "code",
   "execution_count": 3,
   "id": "d7925e9d",
   "metadata": {},
   "outputs": [
    {
     "name": "stdout",
     "output_type": "stream",
     "text": [
      "Enter the first string: hello\n",
      "Enter the second string: lohel\n",
      "The two strings are rotations of each other.\n"
     ]
    }
   ],
   "source": [
    "\n",
    "def are_rotations(string1, string2):\n",
    "    if len(string1) != len(string2):\n",
    "        return False\n",
    "    \n",
    "    stack = []\n",
    "    rotations = 0\n",
    "    \n",
    "    for char in string1:\n",
    "        stack.append(char)\n",
    "    \n",
    "    for _ in range(len(string2)):\n",
    "        char = stack.pop()\n",
    "        stack.insert(0, char)\n",
    "        rotations += 1\n",
    "        \n",
    "        if ''.join(stack) == string2:\n",
    "            return True\n",
    "        \n",
    "    return False\n",
    "\n",
    "str1 = input(\"Enter the first string: \")\n",
    "str2 = input(\"Enter the second string: \")\n",
    "\n",
    "if are_rotations(str1, str2):\n",
    "    print(\"The two strings are rotations of each other.\")\n",
    "else:\n",
    "    print(\"The two strings are not rotations of each other.\")\n"
   ]
  },
  {
   "cell_type": "markdown",
   "id": "798d0f23",
   "metadata": {},
   "source": [
    "# Q4. Write a program to print the first non-repeated character from a string?"
   ]
  },
  {
   "cell_type": "code",
   "execution_count": 4,
   "id": "e5c3f25b",
   "metadata": {},
   "outputs": [
    {
     "name": "stdout",
     "output_type": "stream",
     "text": [
      "Enter a string: RajaRam\n",
      "First non-repeated character: j\n"
     ]
    }
   ],
   "source": [
    "def find_first_non_repeated_char(string):\n",
    "    char_count = {}\n",
    "    \n",
    "    for char in string:\n",
    "        char_count[char] = char_count.get(char, 0) + 1\n",
    "    \n",
    "    for char in string:\n",
    "        if char_count[char] == 1:\n",
    "            return char\n",
    "    \n",
    "    return None\n",
    "\n",
    "input_string = input(\"Enter a string: \")\n",
    "result = find_first_non_repeated_char(input_string)\n",
    "print(\"First non-repeated character:\", result)\n"
   ]
  },
  {
   "cell_type": "markdown",
   "id": "107accf0",
   "metadata": {},
   "source": [
    "# Q5. Read about the Tower of Hanoi algorithm. Write a program to implement it."
   ]
  },
  {
   "cell_type": "code",
   "execution_count": 5,
   "id": "8c3c3c11",
   "metadata": {},
   "outputs": [
    {
     "name": "stdout",
     "output_type": "stream",
     "text": [
      "Enter the number of disks: 3\n",
      "Move disk 1 from A to C\n",
      "Move disk 2 from A to B\n",
      "Move disk 1 from C to B\n",
      "Move disk 3 from A to C\n",
      "Move disk 1 from B to A\n",
      "Move disk 2 from B to C\n",
      "Move disk 1 from A to C\n"
     ]
    }
   ],
   "source": [
    "\n",
    "def tower_of_hanoi(n, source, destination, auxiliary):\n",
    "    if n == 1:\n",
    "        print(f\"Move disk 1 from {source} to {destination}\")\n",
    "        return\n",
    "    \n",
    "    tower_of_hanoi(n - 1, source, auxiliary, destination)\n",
    "    \n",
    "    print(f\"Move disk {n} from {source} to {destination}\")\n",
    "    \n",
    "    tower_of_hanoi(n - 1, auxiliary, destination, source)\n",
    "\n",
    "\n",
    "num_disks = int(input(\"Enter the number of disks: \"))\n",
    "tower_of_hanoi(num_disks, 'A', 'C', 'B')\n",
    "\n"
   ]
  },
  {
   "cell_type": "markdown",
   "id": "baaea4af",
   "metadata": {},
   "source": [
    "# Q6. Read about infix, prefix, and postfix expressions. Write a program to convert postfix to prefix expression"
   ]
  },
  {
   "cell_type": "code",
   "execution_count": 8,
   "id": "4aaa7a9d",
   "metadata": {},
   "outputs": [
    {
     "name": "stdout",
     "output_type": "stream",
     "text": [
      "Enter a postfix expression: 234+*\n",
      "Prefix expression: *2+34\n"
     ]
    }
   ],
   "source": [
    "def postfix_to_prefix(expression):\n",
    "    stack = []\n",
    "    \n",
    "    for token in expression:\n",
    "        if token.isalnum():\n",
    "            stack.append(token)\n",
    "        else:\n",
    "            operand2 = stack.pop()\n",
    "            operand1 = stack.pop()\n",
    "            stack.append(token + operand1 + operand2)\n",
    "    \n",
    "    return stack.pop()\n",
    "\n",
    "# Example usage\n",
    "postfix_expression = input(\"Enter a postfix expression: \")\n",
    "prefix_expression = postfix_to_prefix(postfix_expression)\n",
    "\n",
    "print(\"Prefix expression:\", prefix_expression)"
   ]
  },
  {
   "cell_type": "markdown",
   "id": "932422c2",
   "metadata": {},
   "source": [
    "# Q7. Write a program to convert prefix expression to infix expression."
   ]
  },
  {
   "cell_type": "code",
   "execution_count": 9,
   "id": "368370b6",
   "metadata": {},
   "outputs": [
    {
     "name": "stdout",
     "output_type": "stream",
     "text": [
      "Enter a prefix expression: +-*3456\n",
      "Infix expression: (((3*4)-5)+6)\n"
     ]
    }
   ],
   "source": [
    "def is_operator(char):\n",
    "    operators = ['+', '-', '*', '/']\n",
    "    return char in operators\n",
    "\n",
    "def prefix_to_infix(expression):\n",
    "    stack = []\n",
    "\n",
    "    for char in reversed(expression):\n",
    "        if char.isalnum():\n",
    "            stack.append(char)\n",
    "        elif is_operator(char):\n",
    "            operand1 = stack.pop()\n",
    "            operand2 = stack.pop()\n",
    "            stack.append(f\"({operand1}{char}{operand2})\")\n",
    "\n",
    "    return stack.pop()\n",
    "\n",
    "prefix_exp = input(\"Enter a prefix expression: \")\n",
    "infix_exp = prefix_to_infix(prefix_exp)\n",
    "print(\"Infix expression:\", infix_exp)\n"
   ]
  },
  {
   "cell_type": "markdown",
   "id": "5e5208f6",
   "metadata": {},
   "source": [
    "# Q8. Write a program to check if all the brackets are closed in a given code snippet."
   ]
  },
  {
   "cell_type": "code",
   "execution_count": 14,
   "id": "da3578d9",
   "metadata": {},
   "outputs": [
    {
     "name": "stdout",
     "output_type": "stream",
     "text": [
      "Enter a code snippet: [[(())]]\n",
      "All brackets are properly closed.\n"
     ]
    }
   ],
   "source": [
    "\n",
    "def check_brackets(code):\n",
    "    stack = []\n",
    "\n",
    "    for char in code:\n",
    "        if char in \"([{\":\n",
    "            stack.append(char)\n",
    "        elif char in \")]}\":\n",
    "            if len(stack) == 0:\n",
    "                return False\n",
    "            top = stack.pop()\n",
    "            if not is_matching(top, char):\n",
    "                return False\n",
    "\n",
    "    return len(stack) == 0\n",
    "\n",
    "def is_matching(opening, closing):\n",
    "    return (opening == '(' and closing == ')') or \\\n",
    "           (opening == '[' and closing == ']') or \\\n",
    "           (opening == '{' and closing == '}')\n",
    "\n",
    "\n",
    "code_snippet = input(\"Enter a code snippet: \")\n",
    "if check_brackets(code_snippet):\n",
    "    print(\"All brackets are properly closed.\")\n",
    "else:\n",
    "    print(\"Brackets are not properly closed.\")\n",
    "\n"
   ]
  },
  {
   "cell_type": "markdown",
   "id": "89101c60",
   "metadata": {},
   "source": [
    "# Q9. Write a program to reverse a stack."
   ]
  },
  {
   "cell_type": "code",
   "execution_count": 18,
   "id": "011da6f7",
   "metadata": {},
   "outputs": [
    {
     "name": "stdout",
     "output_type": "stream",
     "text": [
      "Original Stack: [22, 33, 44]\n",
      "Reversed Stack: [44, 33, 22]\n"
     ]
    }
   ],
   "source": [
    "class Stack:\n",
    "    def __init__(self):\n",
    "        self.items = []\n",
    "\n",
    "    def is_empty(self):\n",
    "        return len(self.items) == 0\n",
    "\n",
    "    def push(self, item):\n",
    "        self.items.append(item)\n",
    "\n",
    "    def pop(self):\n",
    "        if not self.is_empty():\n",
    "            return self.items.pop()\n",
    "\n",
    "def reverse_stack(stack):\n",
    "    if stack.is_empty():\n",
    "        return\n",
    "\n",
    "    temp = stack.pop()\n",
    "    reverse_stack(stack)\n",
    "    insert_at_bottom(stack, temp)\n",
    "\n",
    "\n",
    "def insert_at_bottom(stack, item):\n",
    "    if stack.is_empty():\n",
    "        stack.push(item)\n",
    "        return\n",
    "\n",
    "    temp = stack.pop()\n",
    "    insert_at_bottom(stack, item)\n",
    "    stack.push(temp)\n",
    "\n",
    "\n",
    "stack = Stack()\n",
    "stack.push(22)\n",
    "stack.push(33)\n",
    "stack.push(44)\n",
    "stack.push(55)\n",
    "stack.pop()\n",
    "\n",
    "\n",
    "print(\"Original Stack:\", stack.items)\n",
    "reverse_stack(stack)\n",
    "print(\"Reversed Stack:\", stack.items)\n"
   ]
  },
  {
   "cell_type": "markdown",
   "id": "98d3def3",
   "metadata": {},
   "source": [
    "# Q10. Write a program to find the smallest number using a stack."
   ]
  },
  {
   "cell_type": "code",
   "execution_count": 19,
   "id": "081c3b43",
   "metadata": {},
   "outputs": [
    {
     "name": "stdout",
     "output_type": "stream",
     "text": [
      "Enter the size of elements: 6\n",
      "Enter element 1: 23\n",
      "Enter element 2: 67\n",
      "Enter element 3: 51\n",
      "Enter element 4: 16\n",
      "Enter element 5: 98\n",
      "Enter element 6: 87\n",
      "The smallest number is: 16\n"
     ]
    }
   ],
   "source": [
    "class Stack:\n",
    "    def __init__(self):\n",
    "        self.stack = []\n",
    "        self.min_stack = []\n",
    "\n",
    "    def push(self, value):\n",
    "        self.stack.append(value)\n",
    "        if not self.min_stack or value <= self.min_stack[-1]:\n",
    "            self.min_stack.append(value)\n",
    "\n",
    "    def pop(self):\n",
    "        if self.stack:\n",
    "            value = self.stack.pop()\n",
    "            if value == self.min_stack[-1]:\n",
    "                self.min_stack.pop()\n",
    "            return value\n",
    "        else:\n",
    "            return None\n",
    "\n",
    "    def get_min(self):\n",
    "        if self.min_stack:\n",
    "            return self.min_stack[-1]\n",
    "        else:\n",
    "            return None\n",
    "\n",
    "\n",
    "def find_smallest_number():\n",
    "    stack = Stack()\n",
    "\n",
    "    n = int(input(\"Enter the size of elements: \"))\n",
    "\n",
    "    for i in range(n):\n",
    "        num = int(input(f\"Enter element {i + 1}: \"))\n",
    "        stack.push(num)\n",
    "\n",
    "    smallest = stack.get_min()\n",
    "    print(f\"The smallest number is: {smallest}\")\n",
    "\n",
    "\n",
    "find_smallest_number()"
   ]
  },
  {
   "cell_type": "code",
   "execution_count": null,
   "id": "77935526",
   "metadata": {},
   "outputs": [],
   "source": []
  }
 ],
 "metadata": {
  "kernelspec": {
   "display_name": "Python 3 (ipykernel)",
   "language": "python",
   "name": "python3"
  },
  "language_info": {
   "codemirror_mode": {
    "name": "ipython",
    "version": 3
   },
   "file_extension": ".py",
   "mimetype": "text/x-python",
   "name": "python",
   "nbconvert_exporter": "python",
   "pygments_lexer": "ipython3",
   "version": "3.9.12"
  }
 },
 "nbformat": 4,
 "nbformat_minor": 5
}
