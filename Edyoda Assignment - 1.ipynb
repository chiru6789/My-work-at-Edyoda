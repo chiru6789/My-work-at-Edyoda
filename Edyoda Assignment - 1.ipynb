{
 "cells": [
  {
   "cell_type": "markdown",
   "id": "1e82628d",
   "metadata": {},
   "source": [
    "#                                      # Assignment -1(Loops)"
   ]
  },
  {
   "cell_type": "markdown",
   "id": "e99844c3",
   "metadata": {},
   "source": [
    "# 1)Write a Python program to get the Fibonacci series between 0 to 50"
   ]
  },
  {
   "cell_type": "code",
   "execution_count": 5,
   "id": "c8223a01",
   "metadata": {
    "scrolled": true
   },
   "outputs": [
    {
     "name": "stdout",
     "output_type": "stream",
     "text": [
      "1\n",
      "1\n",
      "2\n",
      "3\n",
      "5\n",
      "8\n",
      "13\n",
      "21\n",
      "34\n"
     ]
    }
   ],
   "source": [
    "#fibonacci is a sum of series where each number is always a sum of numbers before it\n",
    "\n",
    "a,b=0,1       # Initialising two variables a and b to 0 and 1 respectively, \n",
    "while b<=50:   # Here,we used while loop to check condition i.e b<=50,to generate fibonacci series between 0 to 50\n",
    "    print(b)  #we are printing the fibonacci term here\n",
    "    a,b = b,a+b  #We assigned b to a and sum of a,b to b to follow the fibonacci series,loop will run until the condition fails\n",
    "    "
   ]
  },
  {
   "cell_type": "markdown",
   "id": "78662967",
   "metadata": {},
   "source": [
    "# 2)Write a Python program that accepts a word from the user and reverse it."
   ]
  },
  {
   "cell_type": "code",
   "execution_count": 1,
   "id": "20d94701",
   "metadata": {},
   "outputs": [
    {
     "name": "stdout",
     "output_type": "stream",
     "text": [
      "Enter a string:Edyoda\n",
      "The revesed string is adoydE \n"
     ]
    }
   ],
   "source": [
    "#Reversal of a string  \n",
    "\n",
    "word=input(\"Enter a string:\") #We are taking input from user and storing in the variable word\n",
    "reversed_word=\" \"             #here reversed_string is initiated with space\n",
    "for i in word:                #for loop iterates through the given word \n",
    "    reversed_word=i+reversed_word      #Here,when i is iterating through word,last letter will get appended to reversed_word\n",
    "print(\"The revesed string is\",reversed_word)          #After execution of loop,it will print the reversed_word"
   ]
  },
  {
   "cell_type": "markdown",
   "id": "b4f219b4",
   "metadata": {},
   "source": [
    "# 3)Write a Python program to count the number of even and odd numbers from a series of numbers."
   ]
  },
  {
   "cell_type": "code",
   "execution_count": 2,
   "id": "6693d51b",
   "metadata": {},
   "outputs": [
    {
     "name": "stdout",
     "output_type": "stream",
     "text": [
      "How many elements required ?:7\n",
      "Enter a number: 26\n",
      "Enter a number: 29\n",
      "Enter a number: 31\n",
      "Enter a number: 42\n",
      "Enter a number: 11\n",
      "Enter a number: 9\n",
      "Enter a number: 4\n",
      "The numbers of even numbers are: 3\n",
      "The numbers of odd numbers are: 4\n"
     ]
    }
   ],
   "source": [
    "\n",
    "numbers=[]                     #Empty list is created to take input from user\n",
    "n=int(input(\"How many elements required ?:\")) #Defining the length of the list\n",
    "count_even=0                   # Initialising the count_even to Zero\n",
    "count_odd=0                    # Initialising the count_odd to Zero\n",
    "for i in range(n):             # We are using for loop to take input from users and check those numbers \n",
    "    num=int(input(\"Enter a number: \")) #Here,we are taking input from user\n",
    "    numbers.append(num)        # Numbers entered by user are appended to the empty list we created \n",
    "    \n",
    "    if num%2==0:            # Here,Actual checking starts for the input given by users,if num divided by 2 is Zero,then it is even\n",
    "        count_even+=1       # We are incrementing the count_even to 1\n",
    "    else:                   # Else part executes when if fails,then the number is odd\n",
    "        count_odd+=1        # We are incrementing the count_odd to 1\n",
    "print(\"The numbers of even numbers are:\",count_even)\n",
    "print(\"The numbers of odd numbers are:\",count_odd)"
   ]
  },
  {
   "cell_type": "code",
   "execution_count": null,
   "id": "c5f59fd7",
   "metadata": {},
   "outputs": [],
   "source": []
  },
  {
   "cell_type": "code",
   "execution_count": null,
   "id": "5a614e6e",
   "metadata": {},
   "outputs": [],
   "source": []
  },
  {
   "cell_type": "code",
   "execution_count": null,
   "id": "c7e0bbf8",
   "metadata": {},
   "outputs": [],
   "source": []
  }
 ],
 "metadata": {
  "kernelspec": {
   "display_name": "Python 3 (ipykernel)",
   "language": "python",
   "name": "python3"
  },
  "language_info": {
   "codemirror_mode": {
    "name": "ipython",
    "version": 3
   },
   "file_extension": ".py",
   "mimetype": "text/x-python",
   "name": "python",
   "nbconvert_exporter": "python",
   "pygments_lexer": "ipython3",
   "version": "3.9.12"
  }
 },
 "nbformat": 4,
 "nbformat_minor": 5
}
