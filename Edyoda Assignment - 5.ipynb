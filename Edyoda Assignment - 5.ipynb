{
 "cells": [
  {
   "cell_type": "markdown",
   "id": "66b416a3",
   "metadata": {},
   "source": [
    "# Assignment-5 | OOPS"
   ]
  },
  {
   "cell_type": "markdown",
   "id": "26018129",
   "metadata": {},
   "source": [
    "# Challenge 1: Square Numbers and Return Their Sum\n"
   ]
  },
  {
   "cell_type": "code",
   "execution_count": 28,
   "id": "dac38078",
   "metadata": {},
   "outputs": [
    {
     "name": "stdout",
     "output_type": "stream",
     "text": [
      "35\n"
     ]
    }
   ],
   "source": [
    "class Point:\n",
    "    def __init__(self, x, y, z):\n",
    "        self.x = x\n",
    "        self.y = y\n",
    "        self.z = z\n",
    "    \n",
    "    def sqSum(self):\n",
    "        return self.x ** 2 + self.y ** 2 + self.z ** 2\n",
    "\n",
    "# Creating an instance of the Point class\n",
    "point_obj = Point(1,3,5)\n",
    "\n",
    "# Calling the sqSum() method and printing the result\n",
    "print(point_obj.sqSum())  "
   ]
  },
  {
   "cell_type": "markdown",
   "id": "d34a1a8c",
   "metadata": {},
   "source": [
    "# Challenge 2: Implement a Calculator Class"
   ]
  },
  {
   "cell_type": "code",
   "execution_count": 18,
   "id": "4ef0ed02",
   "metadata": {},
   "outputs": [
    {
     "name": "stdout",
     "output_type": "stream",
     "text": [
      "addition: 104\n",
      "subtraction: 84\n",
      "Multiplication: 940\n",
      "Division 9.4\n"
     ]
    }
   ],
   "source": [
    "class Calculator:\n",
    "    def __init__(self, num1, num2):\n",
    "        self.num1 = num1\n",
    "        self.num2 = num2\n",
    "    \n",
    "    def add(self):\n",
    "        return self.num1 + self.num2\n",
    "      \n",
    "    def subtract(self):\n",
    "        return self.num2 - self.num1\n",
    "    \n",
    "    def multiply(self):\n",
    "        return self.num1 * self.num2\n",
    "    \n",
    "    def divide(self):\n",
    "        return self.num2 / self.num1\n",
    "\n",
    "# Creating an instance of the Calculator class\n",
    "obj = Calculator(10, 94)\n",
    "\n",
    "# Calling the add(), subtract(), multiply(), and divide() methods and printing the results\n",
    "print('addition:',obj.add())      \n",
    "print('subtraction:',obj.subtract()) \n",
    "print('Multiplication:',obj.multiply()) \n",
    "print('Division',obj.divide())   "
   ]
  },
  {
   "cell_type": "markdown",
   "id": "a371970d",
   "metadata": {},
   "source": [
    "# Challenge 3: Implement the Complete Student Class\n"
   ]
  },
  {
   "cell_type": "code",
   "execution_count": 19,
   "id": "23663b1f",
   "metadata": {},
   "outputs": [
    {
     "name": "stdout",
     "output_type": "stream",
     "text": [
      "Chiranjeevi\n",
      "216\n"
     ]
    }
   ],
   "source": [
    "class Student:\n",
    "    def __init__(self):\n",
    "        self._name = \"\"\n",
    "        self._rollNumber = \"\"\n",
    "\n",
    "    def setName(self, name):\n",
    "        self._name = name\n",
    "\n",
    "    def getName(self):\n",
    "        return self._name\n",
    "\n",
    "    def setRollNumber(self, rollNumber):\n",
    "        self._rollNumber = rollNumber\n",
    "\n",
    "    def getRollNumber(self):\n",
    "        return self._rollNumber\n",
    "\n",
    "student_obj = Student()  # Creating an instance of the Student class\n",
    "student_obj.setName(\"Chiranjeevi\") # Setting the name using the setter method\n",
    "student_obj.setRollNumber(\"216\") # Setting the roll number using the setter method\n",
    "\n",
    "# Getting the name and roll number using the getter methods\n",
    "print(student_obj.getName())       \n",
    "print(student_obj.getRollNumber())"
   ]
  },
  {
   "cell_type": "markdown",
   "id": "aacd12bf",
   "metadata": {},
   "source": [
    "# Challenge 4: Implement a Banking Account\n"
   ]
  },
  {
   "cell_type": "code",
   "execution_count": 29,
   "id": "655f7e63",
   "metadata": {},
   "outputs": [
    {
     "name": "stdout",
     "output_type": "stream",
     "text": [
      "The Title is Ashish and the Balance is 5000\n",
      "The Title is Ashish,Balance is 5000 and Interest rate is 5\n"
     ]
    }
   ],
   "source": [
    "class Account:\n",
    "    def __init__(self, title=None, balance=None):\n",
    "        self.title = title\n",
    "        self.balance = balance\n",
    "        \n",
    "    def __str__(self):\n",
    "        return f'The Title is {self.title} and the Balance is {self.balance}'\n",
    "\n",
    "class SavingsAccount(Account):\n",
    "    def __init__(self, title, balance, interestRate=None):\n",
    "        super().__init__(title, balance)\n",
    "        self.interestRate = interestRate\n",
    "    def __str__(self):\n",
    "        return f'The Title is {self.title},Balance is {self.balance} and Interest rate is {self.interestRate}'\n",
    "     \n",
    "    \n",
    "account_obj = Account(\"Ashish\", 5000) # Creating an instance of the Account class\n",
    "savings_account_obj = SavingsAccount(\"Ashish\", 5000, 5) # Creating an instance of the SavingsAccount class\n",
    "\n",
    "print(account_obj)\n",
    "print(savings_account_obj)"
   ]
  },
  {
   "cell_type": "markdown",
   "id": "23d7d47e",
   "metadata": {},
   "source": [
    "# Challenge 5: Handling a Bank Account\n"
   ]
  },
  {
   "cell_type": "code",
   "execution_count": 30,
   "id": "0e2f0593",
   "metadata": {},
   "outputs": [
    {
     "name": "stdout",
     "output_type": "stream",
     "text": [
      "The Title is Ashok and the Balance is 2000\n",
      "***Deposit Accepted***\n",
      "Deposited amount is 500\n",
      "Balance after deposit is 2500\n",
      "***Withdrawal Accepted***\n",
      "Withdrawal amount is 500\n",
      "Balance after withdrawal is 2000\n",
      "***Current Balance in the account is*** 2000\n",
      "***Interest amount is*** 100.0\n"
     ]
    }
   ],
   "source": [
    "class Account:\n",
    "    def __init__(self, title=None, balance=None):\n",
    "        self.title = title\n",
    "        self.balance = balance\n",
    "      \n",
    "    def __str__(self):\n",
    "        return f'The Title is {self.title} and the Balance is {self.balance}'\n",
    "         \n",
    "    def deposit(self,dep_amt):\n",
    "        self.balance += dep_amt\n",
    "        self.dep_amt = dep_amt\n",
    "        print('***Deposit Accepted***')\n",
    "        print('Deposited amount is',self.dep_amt)\n",
    "        print('Balance after deposit is',self.balance)\n",
    "        \n",
    "    def withdraw(self,wd_amt):\n",
    "        if self.balance >= wd_amt:\n",
    "            self.balance -= wd_amt\n",
    "            self.wd_amt =wd_amt\n",
    "            print('***Withdrawal Accepted***')\n",
    "            print('Withdrawal amount is',self.wd_amt)\n",
    "            print('Balance after withdrawal is',self.balance)\n",
    "        else:\n",
    "            print('Funds Unavailable!')\n",
    "                \n",
    "    def getBalance(self):\n",
    "        print('***Current Balance in the account is***',self.balance)\n",
    "        \n",
    "\n",
    "class SavingsAccount(Account):\n",
    "    def __init__(self, title,balance,interestRate):\n",
    "        super().__init__(title,balance)\n",
    "        self.interestRate = interestRate\n",
    "        \n",
    "        \n",
    "    def __str__(self):\n",
    "        return f'The Title is {self.title},balance is {self.balance} and Interest rate is {self.interestRate}'\n",
    "     \n",
    "        \n",
    "    def interestAmount(self):\n",
    "        interest_amount=(self.interestRate*self.balance)/100\n",
    "        print('***Interest amount is***',interest_amount)\n",
    "\n",
    "\n",
    "account_obj = Account(\"Ashok\", 2000)   # account_obj instantiation\n",
    "print(account_obj)\n",
    "account_obj.deposit(500)\n",
    "account_obj.withdraw(500)\n",
    "account_obj.getBalance()\n",
    "\n",
    "savings_account_obj = SavingsAccount(\"Ashok\",2000,5) # savings_account_obj instantiation\n",
    "savings_account_obj.interestAmount()\n",
    "\n"
   ]
  },
  {
   "cell_type": "code",
   "execution_count": null,
   "id": "e0cd0df8",
   "metadata": {},
   "outputs": [],
   "source": []
  }
 ],
 "metadata": {
  "kernelspec": {
   "display_name": "Python 3 (ipykernel)",
   "language": "python",
   "name": "python3"
  },
  "language_info": {
   "codemirror_mode": {
    "name": "ipython",
    "version": 3
   },
   "file_extension": ".py",
   "mimetype": "text/x-python",
   "name": "python",
   "nbconvert_exporter": "python",
   "pygments_lexer": "ipython3",
   "version": "3.9.12"
  }
 },
 "nbformat": 4,
 "nbformat_minor": 5
}
